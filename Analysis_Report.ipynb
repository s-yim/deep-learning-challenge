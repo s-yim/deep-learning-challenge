{
  "nbformat": 4,
  "nbformat_minor": 0,
  "metadata": {
    "colab": {
      "provenance": []
    },
    "kernelspec": {
      "name": "python3",
      "display_name": "Python 3"
    },
    "language_info": {
      "name": "python"
    }
  },
  "cells": [
    {
      "cell_type": "markdown",
      "source": [
        "I created a binary classifier to predict whether applicants would be successful if funded by Alphabet Soup. I preprocessed data, created a model, and optimized the model using TensorFlow.\n",
        "\n",
        "* Data Preprocessing\n",
        "\n",
        "  * The target variable for my model was the \"IS_SUCCESSFUL\" column and the following variables were features for my model: NAME, APPLICATION TYPE, AFFILIATION, CLASSIFICATION, USE CASE, ORGANIZATION, STATUS, INCOME AMOUNT, SPECIAL CONSIDERATIONS, and ASK AMOUNT. However, the variable, EIN (Employee Identification Number), should be removed from the input data because it is neither a target nor a feature.\n",
        "\n",
        "* Compiling, Training, and Evaluating the Model\n",
        "\n",
        "  * For this neural network model, I used three hidden layers, each with many neurons because the compute seemed to increase the accuracy above 75%. The first activation function I selected was relu, and the other layers were sigmoid. Readjusting my data and functions allowed me to achieve my target model performance of predicitve accuracy above 75%. To do so, I converted the \"NAME\" variable into data points, which had the biggest impact on improving efficiency. However, this was costly and required adding a third layer using the sigmoid activation function.\n",
        "  \n",
        "Overall, the accuracy of my model was above 75%, so the model is able to correctly classify each point in the test data 75% of the time. An applicant also has an 80% chance of being successful if the name of applicant appears more than 5 times and the type of application is one of the following: T3, T4, T5, T6, T7, T8, T10, and T19. RandomForest would be a good alternative model to use since it is easier to interpret, more robust, and more computationally efficient than deep learning models. Testing the model with RandomForest also provided an accuracy score above 75%, so it would be a good fit."
      ],
      "metadata": {
        "id": "q9L0YN7osscF"
      }
    }
  ]
}